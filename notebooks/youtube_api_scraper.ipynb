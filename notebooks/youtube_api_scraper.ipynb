{
 "cells": [
  {
   "cell_type": "code",
   "execution_count": 17,
   "id": "7dba4652-e7fb-4790-a612-8265bfc037ce",
   "metadata": {},
   "outputs": [
    {
     "name": "stdout",
     "output_type": "stream",
     "text": [
      "Requirement already satisfied: google-auth in /opt/anaconda3/lib/python3.12/site-packages (2.35.0)\n",
      "Requirement already satisfied: google-auth-oauthlib in /opt/anaconda3/lib/python3.12/site-packages (1.2.1)\n",
      "Requirement already satisfied: google-auth-httplib2 in /opt/anaconda3/lib/python3.12/site-packages (0.2.0)\n",
      "Requirement already satisfied: google-api-python-client in /opt/anaconda3/lib/python3.12/site-packages (2.151.0)\n",
      "Requirement already satisfied: cachetools<6.0,>=2.0.0 in /opt/anaconda3/lib/python3.12/site-packages (from google-auth) (5.3.3)\n",
      "Requirement already satisfied: pyasn1-modules>=0.2.1 in /opt/anaconda3/lib/python3.12/site-packages (from google-auth) (0.2.8)\n",
      "Requirement already satisfied: rsa<5,>=3.1.4 in /opt/anaconda3/lib/python3.12/site-packages (from google-auth) (4.9)\n",
      "Requirement already satisfied: requests-oauthlib>=0.7.0 in /opt/anaconda3/lib/python3.12/site-packages (from google-auth-oauthlib) (2.0.0)\n",
      "Requirement already satisfied: httplib2>=0.19.0 in /opt/anaconda3/lib/python3.12/site-packages (from google-auth-httplib2) (0.22.0)\n",
      "Requirement already satisfied: google-api-core!=2.0.*,!=2.1.*,!=2.2.*,!=2.3.0,<3.0.0.dev0,>=1.31.5 in /opt/anaconda3/lib/python3.12/site-packages (from google-api-python-client) (2.22.0)\n",
      "Requirement already satisfied: uritemplate<5,>=3.0.1 in /opt/anaconda3/lib/python3.12/site-packages (from google-api-python-client) (4.1.1)\n",
      "Requirement already satisfied: googleapis-common-protos<2.0.dev0,>=1.56.2 in /opt/anaconda3/lib/python3.12/site-packages (from google-api-core!=2.0.*,!=2.1.*,!=2.2.*,!=2.3.0,<3.0.0.dev0,>=1.31.5->google-api-python-client) (1.65.0)\n",
      "Requirement already satisfied: protobuf!=3.20.0,!=3.20.1,!=4.21.0,!=4.21.1,!=4.21.2,!=4.21.3,!=4.21.4,!=4.21.5,<6.0.0.dev0,>=3.19.5 in /opt/anaconda3/lib/python3.12/site-packages (from google-api-core!=2.0.*,!=2.1.*,!=2.2.*,!=2.3.0,<3.0.0.dev0,>=1.31.5->google-api-python-client) (4.25.3)\n",
      "Requirement already satisfied: proto-plus<2.0.0dev,>=1.22.3 in /opt/anaconda3/lib/python3.12/site-packages (from google-api-core!=2.0.*,!=2.1.*,!=2.2.*,!=2.3.0,<3.0.0.dev0,>=1.31.5->google-api-python-client) (1.25.0)\n",
      "Requirement already satisfied: requests<3.0.0.dev0,>=2.18.0 in /opt/anaconda3/lib/python3.12/site-packages (from google-api-core!=2.0.*,!=2.1.*,!=2.2.*,!=2.3.0,<3.0.0.dev0,>=1.31.5->google-api-python-client) (2.32.3)\n",
      "Requirement already satisfied: pyparsing!=3.0.0,!=3.0.1,!=3.0.2,!=3.0.3,<4,>=2.4.2 in /opt/anaconda3/lib/python3.12/site-packages (from httplib2>=0.19.0->google-auth-httplib2) (3.1.2)\n",
      "Requirement already satisfied: pyasn1<0.5.0,>=0.4.6 in /opt/anaconda3/lib/python3.12/site-packages (from pyasn1-modules>=0.2.1->google-auth) (0.4.8)\n",
      "Requirement already satisfied: oauthlib>=3.0.0 in /opt/anaconda3/lib/python3.12/site-packages (from requests-oauthlib>=0.7.0->google-auth-oauthlib) (3.2.2)\n",
      "Requirement already satisfied: charset-normalizer<4,>=2 in /opt/anaconda3/lib/python3.12/site-packages (from requests<3.0.0.dev0,>=2.18.0->google-api-core!=2.0.*,!=2.1.*,!=2.2.*,!=2.3.0,<3.0.0.dev0,>=1.31.5->google-api-python-client) (3.3.2)\n",
      "Requirement already satisfied: idna<4,>=2.5 in /opt/anaconda3/lib/python3.12/site-packages (from requests<3.0.0.dev0,>=2.18.0->google-api-core!=2.0.*,!=2.1.*,!=2.2.*,!=2.3.0,<3.0.0.dev0,>=1.31.5->google-api-python-client) (3.7)\n",
      "Requirement already satisfied: urllib3<3,>=1.21.1 in /opt/anaconda3/lib/python3.12/site-packages (from requests<3.0.0.dev0,>=2.18.0->google-api-core!=2.0.*,!=2.1.*,!=2.2.*,!=2.3.0,<3.0.0.dev0,>=1.31.5->google-api-python-client) (2.2.3)\n",
      "Requirement already satisfied: certifi>=2017.4.17 in /opt/anaconda3/lib/python3.12/site-packages (from requests<3.0.0.dev0,>=2.18.0->google-api-core!=2.0.*,!=2.1.*,!=2.2.*,!=2.3.0,<3.0.0.dev0,>=1.31.5->google-api-python-client) (2024.8.30)\n"
     ]
    }
   ],
   "source": [
    "!pip install --upgrade google-auth google-auth-oauthlib google-auth-httplib2 google-api-python-client"
   ]
  },
  {
   "cell_type": "code",
   "execution_count": 71,
   "id": "f6b30165-54dd-4e2b-ae7d-0cbf5c8fc604",
   "metadata": {},
   "outputs": [
    {
     "name": "stdout",
     "output_type": "stream",
     "text": [
      "Collecting langdetect\n",
      "  Downloading langdetect-1.0.9.tar.gz (981 kB)\n",
      "\u001b[2K     \u001b[90m━━━━━━━━━━━━━━━━━━━━━━━━━━━━━━━━━━━━━━━\u001b[0m \u001b[32m981.5/981.5 kB\u001b[0m \u001b[31m3.1 MB/s\u001b[0m eta \u001b[36m0:00:00\u001b[0ma \u001b[36m0:00:01\u001b[0m\n",
      "\u001b[?25h  Preparing metadata (setup.py) ... \u001b[?25ldone\n",
      "\u001b[?25hRequirement already satisfied: six in /opt/anaconda3/lib/python3.12/site-packages (from langdetect) (1.16.0)\n",
      "Building wheels for collected packages: langdetect\n",
      "  Building wheel for langdetect (setup.py) ... \u001b[?25ldone\n",
      "\u001b[?25h  Created wheel for langdetect: filename=langdetect-1.0.9-py3-none-any.whl size=993222 sha256=1e206213b85197e5ca14613874c6d96a3c3ea83dbe73f4c9373e4b7818a9e6d1\n",
      "  Stored in directory: /Users/juancho/Library/Caches/pip/wheels/c1/67/88/e844b5b022812e15a52e4eaa38a1e709e99f06f6639d7e3ba7\n",
      "Successfully built langdetect\n",
      "Installing collected packages: langdetect\n",
      "Successfully installed langdetect-1.0.9\n"
     ]
    }
   ],
   "source": [
    "!pip install langdetect"
   ]
  },
  {
   "cell_type": "code",
   "execution_count": 1,
   "id": "d6f01822-e48e-4600-b3f6-f9570bb52f53",
   "metadata": {},
   "outputs": [],
   "source": [
    "import os\n",
    "import json\n",
    "from google.auth.transport.requests import Request\n",
    "from google_auth_oauthlib.flow import InstalledAppFlow\n",
    "from googleapiclient.discovery import build\n",
    "from google.auth.exceptions import RefreshError"
   ]
  },
  {
   "cell_type": "code",
   "execution_count": 3,
   "id": "6b89d0f5-c407-445e-b679-6892c5c655ef",
   "metadata": {},
   "outputs": [],
   "source": [
    "import pandas as pd\n",
    "from langdetect import detect, LangDetectException"
   ]
  },
  {
   "cell_type": "code",
   "execution_count": 4,
   "id": "7ffee992-cd22-40e1-8289-02afbb15be8c",
   "metadata": {},
   "outputs": [
    {
     "name": "stdout",
     "output_type": "stream",
     "text": [
      "Please visit this URL to authorize this application: https://accounts.google.com/o/oauth2/auth?response_type=code&client_id=568747845022-879r6q20mfno0tcdfh13uvjvkibuf0po.apps.googleusercontent.com&redirect_uri=http%3A%2F%2Flocalhost%3A8080%2F&scope=https%3A%2F%2Fwww.googleapis.com%2Fauth%2Fyoutube.readonly&state=pxBzzmwrHBQYvjGyokrtc8QcWRgxtx&access_type=offline\n"
     ]
    }
   ],
   "source": [
    "# Definir el alcance de acceso\n",
    "scopes = [\"https://www.googleapis.com/auth/youtube.readonly\"]\n",
    "client_secrets_file = \"#####\" # Path al client_secret\n",
    "\n",
    "# Autenticación manual en la consola\n",
    "flow = InstalledAppFlow.from_client_secrets_file(client_secrets_file, scopes)\n",
    "credentials = flow.run_local_server()  # Este flujo es para Google Colab y permite autenticación manual"
   ]
  },
  {
   "cell_type": "code",
   "execution_count": 7,
   "id": "c4ea6a76-228d-418e-aa4d-21e951d926f5",
   "metadata": {},
   "outputs": [],
   "source": [
    "# Configura el cliente de la API de YouTube\n",
    "youtube = build('youtube', 'v3', credentials=credentials)"
   ]
  },
  {
   "cell_type": "code",
   "execution_count": 9,
   "id": "01569844-f53c-4563-86ab-a92ebb21e551",
   "metadata": {},
   "outputs": [
    {
     "name": "stdout",
     "output_type": "stream",
     "text": [
      "{'1': 'Film & Animation', '2': 'Autos & Vehicles', '10': 'Music', '15': 'Pets & Animals', '17': 'Sports', '18': 'Short Movies', '19': 'Travel & Events', '20': 'Gaming', '21': 'Videoblogging', '22': 'People & Blogs', '23': 'Comedy', '24': 'Entertainment', '25': 'News & Politics', '26': 'Howto & Style', '27': 'Education', '28': 'Science & Technology', '29': 'Nonprofits & Activism', '30': 'Movies', '31': 'Anime/Animation', '32': 'Action/Adventure', '33': 'Classics', '34': 'Comedy', '35': 'Documentary', '36': 'Drama', '37': 'Family', '38': 'Foreign', '39': 'Horror', '40': 'Sci-Fi/Fantasy', '41': 'Thriller', '42': 'Shorts', '43': 'Shows', '44': 'Trailers'}\n"
     ]
    }
   ],
   "source": [
    "# Función para obtener los nombres de las categorías de videos\n",
    "def get_video_categories():\n",
    "    categories = {}\n",
    "    request = youtube.videoCategories().list(part=\"snippet\", regionCode=\"US\")\n",
    "    response = request.execute()\n",
    "    for item in response['items']:\n",
    "        categories[item['id']] = item['snippet']['title']\n",
    "    return categories\n",
    "\n",
    "# Obtener el diccionario de categorías de videos\n",
    "categories_dict = get_video_categories()\n",
    "print(categories_dict)"
   ]
  },
  {
   "cell_type": "code",
   "execution_count": 11,
   "id": "e3effe76-6246-497b-84cf-a11c6fc9b9f7",
   "metadata": {},
   "outputs": [],
   "source": [
    "# Ruta del archivo Excel\n",
    "filename = '######.xlsx'\n",
    "\n",
    "try:\n",
    "    existing_df = pd.read_excel(filename)\n",
    "    existing_ids = set(existing_df['video_id'])\n",
    "except FileNotFoundError:\n",
    "    # Si el archivo no existe, crea un DataFrame vacío y un conjunto vacío de IDs\n",
    "    existing_df = pd.DataFrame(columns=[\n",
    "        'video_id', 'title', 'description', 'published_at', 'view_count', 'like_count', \n",
    "        'dislike_count', 'comment_count', 'tags', 'duration', 'definition', 'caption', \n",
    "        'licensed_content', 'topic_categories', 'category', 'embeddable', 'public_stats_viewable', \n",
    "        'privacy_status', 'license', 'made_for_kids', 'region', 'detected_language'\n",
    "    ])\n",
    "    existing_ids = set()"
   ]
  },
  {
   "cell_type": "code",
   "execution_count": 12,
   "id": "9e377a52-bcb3-4062-9721-4c996c5e1adf",
   "metadata": {},
   "outputs": [
    {
     "data": {
      "text/html": [
       "<div>\n",
       "<style scoped>\n",
       "    .dataframe tbody tr th:only-of-type {\n",
       "        vertical-align: middle;\n",
       "    }\n",
       "\n",
       "    .dataframe tbody tr th {\n",
       "        vertical-align: top;\n",
       "    }\n",
       "\n",
       "    .dataframe thead th {\n",
       "        text-align: right;\n",
       "    }\n",
       "</style>\n",
       "<table border=\"1\" class=\"dataframe\">\n",
       "  <thead>\n",
       "    <tr style=\"text-align: right;\">\n",
       "      <th></th>\n",
       "      <th>video_id</th>\n",
       "      <th>title</th>\n",
       "      <th>description</th>\n",
       "      <th>published_at</th>\n",
       "      <th>view_count</th>\n",
       "      <th>like_count</th>\n",
       "      <th>dislike_count</th>\n",
       "      <th>comment_count</th>\n",
       "      <th>tags</th>\n",
       "      <th>duration</th>\n",
       "      <th>...</th>\n",
       "      <th>licensed_content</th>\n",
       "      <th>topic_categories</th>\n",
       "      <th>category</th>\n",
       "      <th>embeddable</th>\n",
       "      <th>public_stats_viewable</th>\n",
       "      <th>privacy_status</th>\n",
       "      <th>license</th>\n",
       "      <th>made_for_kids</th>\n",
       "      <th>region</th>\n",
       "      <th>detected_language</th>\n",
       "    </tr>\n",
       "  </thead>\n",
       "  <tbody>\n",
       "    <tr>\n",
       "      <th>0</th>\n",
       "      <td>W7YT9--8IoY</td>\n",
       "      <td>\"Barbering and Fashion: HoWStyle Infiuences Ha...</td>\n",
       "      <td>NaN</td>\n",
       "      <td>2024-11-01T19:28:52Z</td>\n",
       "      <td>278846</td>\n",
       "      <td>18108.0</td>\n",
       "      <td>NaN</td>\n",
       "      <td>204.0</td>\n",
       "      <td>NaN</td>\n",
       "      <td>PT1M14S</td>\n",
       "      <td>...</td>\n",
       "      <td>True</td>\n",
       "      <td>https://en.wikipedia.org/wiki/Lifestyle_(socio...</td>\n",
       "      <td>Howto &amp; Style</td>\n",
       "      <td>True</td>\n",
       "      <td>True</td>\n",
       "      <td>public</td>\n",
       "      <td>youtube</td>\n",
       "      <td>False</td>\n",
       "      <td>US</td>\n",
       "      <td>en</td>\n",
       "    </tr>\n",
       "    <tr>\n",
       "      <th>1</th>\n",
       "      <td>F3UVBS1V3U4</td>\n",
       "      <td>Dos Días - Tito Double P, Peso Pluma (Video Of...</td>\n",
       "      <td>Dos Dias - Tito Double P, Peso Pluma\\n\\n ESCUC...</td>\n",
       "      <td>2024-11-01T01:00:08Z</td>\n",
       "      <td>2498811</td>\n",
       "      <td>80517.0</td>\n",
       "      <td>NaN</td>\n",
       "      <td>2011.0</td>\n",
       "      <td>tito pp, tito doble p, tito duble pp, peso plu...</td>\n",
       "      <td>PT2M45S</td>\n",
       "      <td>...</td>\n",
       "      <td>True</td>\n",
       "      <td>https://en.wikipedia.org/wiki/Music, https://e...</td>\n",
       "      <td>Music</td>\n",
       "      <td>True</td>\n",
       "      <td>True</td>\n",
       "      <td>public</td>\n",
       "      <td>youtube</td>\n",
       "      <td>False</td>\n",
       "      <td>US</td>\n",
       "      <td>es</td>\n",
       "    </tr>\n",
       "    <tr>\n",
       "      <th>2</th>\n",
       "      <td>D7F42F_JM3U</td>\n",
       "      <td>Lil Uzi Vert - Chill Bae [Official Music Video]</td>\n",
       "      <td>Lil Uzi Vert - \"Chill Bae\" \\nETERNAL ATAKE 2 O...</td>\n",
       "      <td>2024-11-01T04:00:08Z</td>\n",
       "      <td>1645340</td>\n",
       "      <td>74900.0</td>\n",
       "      <td>NaN</td>\n",
       "      <td>5173.0</td>\n",
       "      <td>Lil, Uzi, Vert, Lil Uzi Vert, Eternal Atake, M...</td>\n",
       "      <td>PT3M25S</td>\n",
       "      <td>...</td>\n",
       "      <td>True</td>\n",
       "      <td>https://en.wikipedia.org/wiki/Electronic_music...</td>\n",
       "      <td>Music</td>\n",
       "      <td>True</td>\n",
       "      <td>True</td>\n",
       "      <td>public</td>\n",
       "      <td>youtube</td>\n",
       "      <td>False</td>\n",
       "      <td>US</td>\n",
       "      <td>en</td>\n",
       "    </tr>\n",
       "    <tr>\n",
       "      <th>3</th>\n",
       "      <td>6CvT_1tOrlY</td>\n",
       "      <td>Fuerza Regida X Luis R Conriquez - CHOLO 7 (VI...</td>\n",
       "      <td>Cholo 7 - Ya Disponible En Todas las Plataform...</td>\n",
       "      <td>2024-11-01T00:00:05Z</td>\n",
       "      <td>1038132</td>\n",
       "      <td>47844.0</td>\n",
       "      <td>NaN</td>\n",
       "      <td>1511.0</td>\n",
       "      <td>NaN</td>\n",
       "      <td>PT2M40S</td>\n",
       "      <td>...</td>\n",
       "      <td>True</td>\n",
       "      <td>https://en.wikipedia.org/wiki/Hip_hop_music, h...</td>\n",
       "      <td>Music</td>\n",
       "      <td>True</td>\n",
       "      <td>True</td>\n",
       "      <td>public</td>\n",
       "      <td>youtube</td>\n",
       "      <td>False</td>\n",
       "      <td>US</td>\n",
       "      <td>es</td>\n",
       "    </tr>\n",
       "    <tr>\n",
       "      <th>4</th>\n",
       "      <td>4ZxQ5rR8VwA</td>\n",
       "      <td>Is This a WW2 German Spy Hideout, Discovered i...</td>\n",
       "      <td>Thanks to AG1 for sponsoring this video. Click...</td>\n",
       "      <td>2024-11-01T19:12:41Z</td>\n",
       "      <td>298814</td>\n",
       "      <td>17512.0</td>\n",
       "      <td>NaN</td>\n",
       "      <td>1715.0</td>\n",
       "      <td>NaN</td>\n",
       "      <td>PT25M12S</td>\n",
       "      <td>...</td>\n",
       "      <td>True</td>\n",
       "      <td>https://en.wikipedia.org/wiki/Lifestyle_(socio...</td>\n",
       "      <td>People &amp; Blogs</td>\n",
       "      <td>True</td>\n",
       "      <td>True</td>\n",
       "      <td>public</td>\n",
       "      <td>youtube</td>\n",
       "      <td>False</td>\n",
       "      <td>US</td>\n",
       "      <td>en</td>\n",
       "    </tr>\n",
       "  </tbody>\n",
       "</table>\n",
       "<p>5 rows × 22 columns</p>\n",
       "</div>"
      ],
      "text/plain": [
       "      video_id                                              title  \\\n",
       "0  W7YT9--8IoY  \"Barbering and Fashion: HoWStyle Infiuences Ha...   \n",
       "1  F3UVBS1V3U4  Dos Días - Tito Double P, Peso Pluma (Video Of...   \n",
       "2  D7F42F_JM3U    Lil Uzi Vert - Chill Bae [Official Music Video]   \n",
       "3  6CvT_1tOrlY  Fuerza Regida X Luis R Conriquez - CHOLO 7 (VI...   \n",
       "4  4ZxQ5rR8VwA  Is This a WW2 German Spy Hideout, Discovered i...   \n",
       "\n",
       "                                         description          published_at  \\\n",
       "0                                                NaN  2024-11-01T19:28:52Z   \n",
       "1  Dos Dias - Tito Double P, Peso Pluma\\n\\n ESCUC...  2024-11-01T01:00:08Z   \n",
       "2  Lil Uzi Vert - \"Chill Bae\" \\nETERNAL ATAKE 2 O...  2024-11-01T04:00:08Z   \n",
       "3  Cholo 7 - Ya Disponible En Todas las Plataform...  2024-11-01T00:00:05Z   \n",
       "4  Thanks to AG1 for sponsoring this video. Click...  2024-11-01T19:12:41Z   \n",
       "\n",
       "   view_count  like_count  dislike_count  comment_count  \\\n",
       "0      278846     18108.0            NaN          204.0   \n",
       "1     2498811     80517.0            NaN         2011.0   \n",
       "2     1645340     74900.0            NaN         5173.0   \n",
       "3     1038132     47844.0            NaN         1511.0   \n",
       "4      298814     17512.0            NaN         1715.0   \n",
       "\n",
       "                                                tags  duration  ...  \\\n",
       "0                                                NaN   PT1M14S  ...   \n",
       "1  tito pp, tito doble p, tito duble pp, peso plu...   PT2M45S  ...   \n",
       "2  Lil, Uzi, Vert, Lil Uzi Vert, Eternal Atake, M...   PT3M25S  ...   \n",
       "3                                                NaN   PT2M40S  ...   \n",
       "4                                                NaN  PT25M12S  ...   \n",
       "\n",
       "  licensed_content                                   topic_categories  \\\n",
       "0             True  https://en.wikipedia.org/wiki/Lifestyle_(socio...   \n",
       "1             True  https://en.wikipedia.org/wiki/Music, https://e...   \n",
       "2             True  https://en.wikipedia.org/wiki/Electronic_music...   \n",
       "3             True  https://en.wikipedia.org/wiki/Hip_hop_music, h...   \n",
       "4             True  https://en.wikipedia.org/wiki/Lifestyle_(socio...   \n",
       "\n",
       "         category embeddable public_stats_viewable  privacy_status  license  \\\n",
       "0   Howto & Style       True                  True          public  youtube   \n",
       "1           Music       True                  True          public  youtube   \n",
       "2           Music       True                  True          public  youtube   \n",
       "3           Music       True                  True          public  youtube   \n",
       "4  People & Blogs       True                  True          public  youtube   \n",
       "\n",
       "  made_for_kids region  detected_language  \n",
       "0         False     US                 en  \n",
       "1         False     US                 es  \n",
       "2         False     US                 en  \n",
       "3         False     US                 es  \n",
       "4         False     US                 en  \n",
       "\n",
       "[5 rows x 22 columns]"
      ]
     },
     "execution_count": 12,
     "metadata": {},
     "output_type": "execute_result"
    }
   ],
   "source": [
    "existing_df.head()"
   ]
  },
  {
   "cell_type": "code",
   "execution_count": 15,
   "id": "5c729f0e-6a4c-4464-9142-d644b55030d6",
   "metadata": {},
   "outputs": [],
   "source": [
    "region_codes = [\"US\", \"GB\", \"CA\", \"AU\", \"NZ\"]\n",
    "\n",
    "all_videos = []\n",
    "for region in region_codes:\n",
    "    request = youtube.videos().list(\n",
    "        part=\"snippet,statistics,contentDetails,topicDetails,status\",\n",
    "        chart=\"mostPopular\",\n",
    "        maxResults=1000,\n",
    "        regionCode=region\n",
    "    )\n",
    "    response = request.execute()\n",
    "    \n",
    "    for item in response['items']:\n",
    "        video_id = item['id']\n",
    "        \n",
    "        # Obtener datos del video\n",
    "        title = item['snippet']['title']\n",
    "        description = item['snippet'].get('description', 'N/A')\n",
    "        published_at = item['snippet']['publishedAt']\n",
    "        tags = ', '.join(item['snippet'].get('tags', []))  # Convierte tags a texto\n",
    "        view_count = item['statistics'].get('viewCount', 'N/A')\n",
    "        like_count = item['statistics'].get('likeCount', 'N/A')\n",
    "        dislike_count = item['statistics'].get('dislikeCount', 'N/A')\n",
    "        comment_count = item['statistics'].get('commentCount', 'N/A')\n",
    "        duration = item['contentDetails'].get('duration', 'N/A')\n",
    "        definition = item['contentDetails'].get('definition', 'N/A')\n",
    "        caption = item['contentDetails'].get('caption', 'N/A')\n",
    "        licensed_content = item['contentDetails'].get('licensedContent', 'N/A')\n",
    "        topic_categories = ', '.join(item['topicDetails'].get('topicCategories', [])) if 'topicDetails' in item else 'N/A'\n",
    "        category_id = item['snippet'].get('categoryId', 'N/A')\n",
    "        category_name = categories_dict.get(category_id, 'N/A')\n",
    "        embeddable = item['status'].get('embeddable', 'N/A')\n",
    "        public_stats_viewable = item['status'].get('publicStatsViewable', 'N/A')\n",
    "        privacy_status = item['status'].get('privacyStatus', 'N/A')\n",
    "        license_type = item['status'].get('license', 'N/A')\n",
    "        made_for_kids = item['status'].get('madeForKids', 'N/A')\n",
    "        \n",
    "        # Detectar el idioma del título o descripción\n",
    "        try:\n",
    "            detected_language = detect(title + \" \" + description)\n",
    "        except LangDetectException:\n",
    "            detected_language = \"unknown\"\n",
    "\n",
    "        # Agregar todos los datos, incluyendo la región y el idioma detectado\n",
    "        all_videos.append([\n",
    "            video_id, title, description, published_at, view_count, like_count, \n",
    "            dislike_count, comment_count, tags, duration, definition, caption, \n",
    "            licensed_content, topic_categories, category_name, embeddable, \n",
    "            public_stats_viewable, privacy_status, license_type, made_for_kids, \n",
    "            region, detected_language\n",
    "        ])\n"
   ]
  },
  {
   "cell_type": "code",
   "execution_count": 16,
   "id": "e4446b2f-a2af-49de-8a4f-a3bff21a817d",
   "metadata": {},
   "outputs": [
    {
     "name": "stdout",
     "output_type": "stream",
     "text": [
      "250 nuevos videos guardados en '/Users/juancho/Downloads/popular_videos.xlsx'.\n"
     ]
    }
   ],
   "source": [
    "if all_videos:\n",
    "    new_df = pd.DataFrame(all_videos, columns=[\n",
    "    'video_id', 'title', 'description', 'published_at', 'view_count', 'like_count', \n",
    "    'dislike_count', 'comment_count', 'tags', 'duration', 'definition', 'caption', \n",
    "    'licensed_content', 'topic_categories', 'category', 'embeddable', 'public_stats_viewable', \n",
    "    'privacy_status', 'license', 'made_for_kids', 'region', 'detected_language'\n",
    "    ])\n",
    "    # Combina el nuevo DataFrame con el existente\n",
    "    # Combinar los DataFrames para actualizar los datos de los videos existentes\n",
    "    combined_df = pd.concat([existing_df, new_df]).drop_duplicates(subset='video_id', keep='last')\n",
    "\n",
    "    # Guarda el DataFrame combinado en el archivo Excel\n",
    "    # Guardar el DataFrame combinado\n",
    "    combined_df.to_excel('########.xlsx', index=False)\n",
    "\n",
    "    print(f\"{len(combined_df)- len(existing_df)} nuevos videos guardados en '{filename}'.\")\n",
    "else:\n",
    "    print(\"No hay videos nuevos para agregar.\")"
   ]
  },
  {
   "cell_type": "code",
   "execution_count": 19,
   "id": "16558fac-16d7-4273-8c91-bae04714e7b0",
   "metadata": {},
   "outputs": [
    {
     "data": {
      "text/plain": [
       "(309, 22)"
      ]
     },
     "execution_count": 19,
     "metadata": {},
     "output_type": "execute_result"
    }
   ],
   "source": [
    "combined_df.shape"
   ]
  },
  {
   "cell_type": "code",
   "execution_count": 21,
   "id": "364025fc-9221-4470-9b43-b974de27036c",
   "metadata": {},
   "outputs": [
    {
     "data": {
      "text/plain": [
       "(250, 22)"
      ]
     },
     "execution_count": 21,
     "metadata": {},
     "output_type": "execute_result"
    }
   ],
   "source": [
    "new_df.shape"
   ]
  },
  {
   "cell_type": "code",
   "execution_count": null,
   "id": "2883af4f-9306-4cbe-8b65-bf2cd4e3780f",
   "metadata": {},
   "outputs": [],
   "source": []
  }
 ],
 "metadata": {
  "kernelspec": {
   "display_name": "Python 3 (ipykernel)",
   "language": "python",
   "name": "python3"
  },
  "language_info": {
   "codemirror_mode": {
    "name": "ipython",
    "version": 3
   },
   "file_extension": ".py",
   "mimetype": "text/x-python",
   "name": "python",
   "nbconvert_exporter": "python",
   "pygments_lexer": "ipython3",
   "version": "3.12.7"
  }
 },
 "nbformat": 4,
 "nbformat_minor": 5
}
